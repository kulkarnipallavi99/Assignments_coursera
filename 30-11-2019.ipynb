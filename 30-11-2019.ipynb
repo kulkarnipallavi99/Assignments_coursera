{
 "cells": [
  {
   "cell_type": "code",
   "execution_count": 1,
   "metadata": {},
   "outputs": [],
   "source": [
    "\n",
    "import pandas as pd\n",
    "import numpy as np\n",
    "#!conda install -c ulmo beautifulsoup4      #Uncomment this if BeautifulSoup is not installed on your system\n",
    "#!conda install -c ulmo urllib3             #Uncomment this if urllib3 is not installed on your system\n",
    "from bs4 import BeautifulSoup\n",
    "import urllib3\n",
    "# To scrap the data\n",
    "CONST_wikipediaLink = \"https://en.wikipedia.org/wiki/List_of_postal_codes_of_Canada:_M\"\n",
    "\n",
    "# Key for the dataframe we will use\n",
    "CONST_dfColumns = ['PostalCode', 'Borough', 'Neighborhood']\n",
    "\n",
    "# Size of the radius to retrieve venues from FoursquareAPI, and limit of venues per neighbourhood\n",
    "CONST_venuesRadiusScan = 1100\n",
    "CONST_venuesLimit = 100"
   ]
  },
  {
   "cell_type": "code",
   "execution_count": 2,
   "metadata": {},
   "outputs": [
    {
     "data": {
      "text/html": [
       "<div>\n",
       "<style scoped>\n",
       "    .dataframe tbody tr th:only-of-type {\n",
       "        vertical-align: middle;\n",
       "    }\n",
       "\n",
       "    .dataframe tbody tr th {\n",
       "        vertical-align: top;\n",
       "    }\n",
       "\n",
       "    .dataframe thead th {\n",
       "        text-align: right;\n",
       "    }\n",
       "</style>\n",
       "<table border=\"1\" class=\"dataframe\">\n",
       "  <thead>\n",
       "    <tr style=\"text-align: right;\">\n",
       "      <th></th>\n",
       "      <th>PostalCode</th>\n",
       "      <th>Borough</th>\n",
       "      <th>Neighborhood</th>\n",
       "    </tr>\n",
       "  </thead>\n",
       "  <tbody>\n",
       "    <tr>\n",
       "      <td>0</td>\n",
       "      <td>None</td>\n",
       "      <td>None</td>\n",
       "      <td>None</td>\n",
       "    </tr>\n",
       "    <tr>\n",
       "      <td>1</td>\n",
       "      <td>M1A</td>\n",
       "      <td>Not assigned</td>\n",
       "      <td>Not assigned</td>\n",
       "    </tr>\n",
       "    <tr>\n",
       "      <td>2</td>\n",
       "      <td>M2A</td>\n",
       "      <td>Not assigned</td>\n",
       "      <td>Not assigned</td>\n",
       "    </tr>\n",
       "    <tr>\n",
       "      <td>3</td>\n",
       "      <td>M3A</td>\n",
       "      <td>North York</td>\n",
       "      <td>Parkwoods</td>\n",
       "    </tr>\n",
       "    <tr>\n",
       "      <td>4</td>\n",
       "      <td>M4A</td>\n",
       "      <td>North York</td>\n",
       "      <td>Victoria Village</td>\n",
       "    </tr>\n",
       "  </tbody>\n",
       "</table>\n",
       "</div>"
      ],
      "text/plain": [
       "  PostalCode       Borough      Neighborhood\n",
       "0       None          None              None\n",
       "1        M1A  Not assigned      Not assigned\n",
       "2        M2A  Not assigned      Not assigned\n",
       "3        M3A    North York         Parkwoods\n",
       "4        M4A    North York  Victoria Village"
      ]
     },
     "execution_count": 2,
     "metadata": {},
     "output_type": "execute_result"
    }
   ],
   "source": [
    "http = urllib3.PoolManager()\n",
    "urllib3.disable_warnings(urllib3.exceptions.InsecureRequestWarning)\n",
    "\n",
    "# Scrape the raw xml data from Wikipedia\n",
    "response = http.request('GET', CONST_wikipediaLink)\n",
    "soup = BeautifulSoup(response.data, \"lxml\")\n",
    "\n",
    "#soup\n",
    "\n",
    "df_neighbourhoods = pd.DataFrame(columns=CONST_dfColumns)\n",
    "fullList = []\n",
    "# Retrieve all neighbourhoods, in the <tr> tags\n",
    "neighbourhoodsList = soup.body.table.find_all('tr')\n",
    "\n",
    "# Loop through each neighbourhood, in the <td> tags\n",
    "for neighbourhood in neighbourhoodsList:\n",
    "    neighbourElts = neighbourhood.find_all('td')\n",
    "    \n",
    "    # Loop through each attritube of the current neighbourhood : name, title, and wikipedia url\n",
    "    tmpList = []\n",
    "    for elt in neighbourElts:\n",
    "        # Remove the tags & newlines\n",
    "        tmpList.append(str(elt.get_text().strip()))\n",
    "        \n",
    "    fullList.append(tmpList)\n",
    "\n",
    "# Add the scraped nneighbourhoods into the dataframe\n",
    "df_neighbourhoods=pd.DataFrame(fullList,columns=CONST_dfColumns)\n",
    "df_neighbourhoods.head()"
   ]
  },
  {
   "cell_type": "code",
   "execution_count": 3,
   "metadata": {},
   "outputs": [
    {
     "data": {
      "text/html": [
       "<div>\n",
       "<style scoped>\n",
       "    .dataframe tbody tr th:only-of-type {\n",
       "        vertical-align: middle;\n",
       "    }\n",
       "\n",
       "    .dataframe tbody tr th {\n",
       "        vertical-align: top;\n",
       "    }\n",
       "\n",
       "    .dataframe thead th {\n",
       "        text-align: right;\n",
       "    }\n",
       "</style>\n",
       "<table border=\"1\" class=\"dataframe\">\n",
       "  <thead>\n",
       "    <tr style=\"text-align: right;\">\n",
       "      <th></th>\n",
       "      <th>PostalCode</th>\n",
       "      <th>Borough</th>\n",
       "      <th>Neighborhood</th>\n",
       "    </tr>\n",
       "  </thead>\n",
       "  <tbody>\n",
       "    <tr>\n",
       "      <td>0</td>\n",
       "      <td>M1B</td>\n",
       "      <td>Scarborough</td>\n",
       "      <td>Rouge, Malvern</td>\n",
       "    </tr>\n",
       "    <tr>\n",
       "      <td>1</td>\n",
       "      <td>M1C</td>\n",
       "      <td>Scarborough</td>\n",
       "      <td>Highland Creek, Rouge Hill, Port Union</td>\n",
       "    </tr>\n",
       "    <tr>\n",
       "      <td>2</td>\n",
       "      <td>M1E</td>\n",
       "      <td>Scarborough</td>\n",
       "      <td>Guildwood, Morningside, West Hill</td>\n",
       "    </tr>\n",
       "    <tr>\n",
       "      <td>3</td>\n",
       "      <td>M1G</td>\n",
       "      <td>Scarborough</td>\n",
       "      <td>Woburn</td>\n",
       "    </tr>\n",
       "    <tr>\n",
       "      <td>4</td>\n",
       "      <td>M1H</td>\n",
       "      <td>Scarborough</td>\n",
       "      <td>Cedarbrae</td>\n",
       "    </tr>\n",
       "  </tbody>\n",
       "</table>\n",
       "</div>"
      ],
      "text/plain": [
       "  PostalCode      Borough                            Neighborhood\n",
       "0        M1B  Scarborough                          Rouge, Malvern\n",
       "1        M1C  Scarborough  Highland Creek, Rouge Hill, Port Union\n",
       "2        M1E  Scarborough       Guildwood, Morningside, West Hill\n",
       "3        M1G  Scarborough                                  Woburn\n",
       "4        M1H  Scarborough                               Cedarbrae"
      ]
     },
     "execution_count": 3,
     "metadata": {},
     "output_type": "execute_result"
    }
   ],
   "source": [
    "# Filter all unassigned neighbourhoods\n",
    "df_neighbourhoods = df_neighbourhoods[(df_neighbourhoods.Borough.notnull())]\n",
    "df_neighbourhoods = df_neighbourhoods[(df_neighbourhoods.Borough != \"Not assigned\")]\n",
    "\n",
    "# Group by PostalCode/Borough\n",
    "df_neighbourhoods = pd.DataFrame(df_neighbourhoods.groupby(['PostalCode', 'Borough'])['Neighborhood'].apply(list)).reset_index()\n",
    "df_neighbourhoods['Neighborhood'] = df_neighbourhoods['Neighborhood'].apply(lambda x: ', '.join(x))\n",
    "\n",
    "# If a cell has a borough but a Not assigned neighborhood, then the neighborhood will be the same as the borough\n",
    "df_neighbourhoods.loc[ (df_neighbourhoods.Neighborhood.isnull() == True) |\n",
    "               (df_neighbourhoods.Neighborhood == \"Not assigned\")\n",
    "               , 'Neighborhood'] = df_neighbourhoods.Borough\n",
    "\n",
    "df_neighbourhoods.head()"
   ]
  },
  {
   "cell_type": "code",
   "execution_count": 4,
   "metadata": {},
   "outputs": [
    {
     "data": {
      "text/plain": [
       "(103, 3)"
      ]
     },
     "execution_count": 4,
     "metadata": {},
     "output_type": "execute_result"
    }
   ],
   "source": [
    "df_neighbourhoods.shape"
   ]
  },
  {
   "cell_type": "markdown",
   "metadata": {},
   "source": [
    "### Part 2 - Add the latitude and the longitude coordinates of each neighbourhood"
   ]
  },
  {
   "cell_type": "code",
   "execution_count": 5,
   "metadata": {},
   "outputs": [
    {
     "ename": "ModuleNotFoundError",
     "evalue": "No module named 'geocoder'",
     "output_type": "error",
     "traceback": [
      "\u001b[1;31m---------------------------------------------------------------------------\u001b[0m",
      "\u001b[1;31mModuleNotFoundError\u001b[0m                       Traceback (most recent call last)",
      "\u001b[1;32m<ipython-input-5-ef929afb83c1>\u001b[0m in \u001b[0;36m<module>\u001b[1;34m\u001b[0m\n\u001b[0;32m      1\u001b[0m \u001b[1;31m#!conda install -c conda-forge geocoder             #Uncomment this if geocoder is not installed on your system\u001b[0m\u001b[1;33m\u001b[0m\u001b[1;33m\u001b[0m\u001b[1;33m\u001b[0m\u001b[0m\n\u001b[1;32m----> 2\u001b[1;33m \u001b[1;32mimport\u001b[0m \u001b[0mgeocoder\u001b[0m \u001b[1;31m# import geocoder\u001b[0m\u001b[1;33m\u001b[0m\u001b[1;33m\u001b[0m\u001b[0m\n\u001b[0m",
      "\u001b[1;31mModuleNotFoundError\u001b[0m: No module named 'geocoder'"
     ]
    }
   ],
   "source": [
    "#!conda install -c conda-forge geocoder             #Uncomment this if geocoder is not installed on your system\n",
    "import geocoder # import geocoder"
   ]
  },
  {
   "cell_type": "code",
   "execution_count": null,
   "metadata": {},
   "outputs": [],
   "source": [
    "\n",
    "# This function returns the latitude and longitude of the given postal code, in Toronto\n",
    "def getCoordsByPostalCode(postal_code):\n",
    "    # initialize to None : this variable will allow us to loop until geocoder responds with the coordinates\n",
    "    lat_lng_coords = None\n",
    "\n",
    "    # loop until we get the coordinates\n",
    "    while(lat_lng_coords is None):\n",
    "        g = geocoder.arcgis('{}, Toronto, Ontario'.format(postal_code))\n",
    "        lat_lng_coords = g.latlng\n",
    "\n",
    "    latitude = lat_lng_coords[0]\n",
    "    longitude = lat_lng_coords[1]\n",
    "    \n",
    "    return latitude, longitude\n",
    "\n",
    "postalCodesWithCoordsList = []\n",
    "\n",
    "# Loop through each postal code from our dataframe\n",
    "for postalCode in df_neighbourhoods['PostalCode']:\n",
    "    # Fill the temp list with the coordinates from geocoder\n",
    "    latitude, longitude = getCoordsByPostalCode(postalCode)\n",
    "    postalCodesWithCoordsList.append([postalCode, latitude, longitude])\n",
    "    \n",
    "# Transform the temp list into a dataframe\n",
    "df_coords = pd.DataFrame(postalCodesWithCoordsList)\n",
    "df_coords.columns = ['PostalCode', 'Latitude', 'Longitude']\n",
    "\n",
    "# Merge the coordinates dataframe with the original neighbourhoods dataframe (key : postal code)\n",
    "df_neighbourhoods = pd.merge(df_neighbourhoods, df_coords, on='PostalCode')\n",
    "\n",
    "df_neighbourhoods_toronto = df_neighbourhoods\n",
    "\n",
    "df_neighbourhoods.head()"
   ]
  },
  {
   "cell_type": "markdown",
   "metadata": {},
   "source": [
    "### Part 3 - Neighbourhoods clustering using venues from FoursquareAPI"
   ]
  },
  {
   "cell_type": "code",
   "execution_count": 6,
   "metadata": {},
   "outputs": [],
   "source": [
    "#!conda install -c conda-forge folium                #Uncomment this if folium is not installed on your system\n",
    "import folium\n",
    "import requests\n",
    "\n",
    "# import k-means from clustering stage\n",
    "from sklearn.cluster import KMeans\n",
    "\n",
    "# Matplotlib and associated plotting modules\n",
    "import matplotlib.cm as cm\n",
    "import matplotlib.colors as colors"
   ]
  },
  {
   "cell_type": "code",
   "execution_count": null,
   "metadata": {},
   "outputs": [],
   "source": [
    "\n",
    "# create map of Toronto using latitude and longitude values\n",
    "map_toronto = folium.Map(location=[latitude_toronto, longitude_toronto], zoom_start=11)\n",
    "\n",
    "# add markers to map\n",
    "for lat, lng, borough, neighborhood, postalCode in zip(df_neighbourhoods_toronto['Latitude'], df_neighbourhoods_toronto['Longitude'], df_neighbourhoods_toronto['Borough'], df_neighbourhoods_toronto['Neighborhood'], df_neighbourhoods_toronto['PostalCode']):\n",
    "    label = '{}'.format(postalCode)\n",
    "    label = folium.Popup(label, parse_html=True)\n",
    "\n",
    "    folium.CircleMarker(\n",
    "        [lat, lng],\n",
    "        radius=5,\n",
    "        popup=label,\n",
    "        color='blue',\n",
    "        fill=True,\n",
    "        fill_color='#3186cc',\n",
    "        fill_opacity=0.7).add_to(map_toronto) \n",
    "    \n",
    "map_torontoaddress = 'Toronto, ON'\n",
    "\n",
    "# initialize to None\n",
    "lat_lng_coords = None\n",
    "\n",
    "# loop until we get the coordinates\n",
    "while(lat_lng_coords is None):\n",
    "    g = geocoder.arcgis('Toronto, Ontario')\n",
    "    lat_lng_coords = g.latlng\n",
    "\n",
    "latitude_toronto = lat_lng_coords[0]\n",
    "longitude_toronto = lat_lng_coords[1]\n",
    "\n",
    "print('The geograpical coordinate of Toronto are {}, {}.'.format(latitude_toronto, longitude_toronto))"
   ]
  },
  {
   "cell_type": "code",
   "execution_count": null,
   "metadata": {},
   "outputs": [],
   "source": [
    "\n",
    "# create map of Toronto using latitude and longitude values\n",
    "map_toronto = folium.Map(location=[latitude_toronto, longitude_toronto], zoom_start=11)\n",
    "\n",
    "# add markers to map\n",
    "for lat, lng, borough, neighborhood, postalCode in zip(df_neighbourhoods_toronto['Latitude'], df_neighbourhoods_toronto['Longitude'], df_neighbourhoods_toronto['Borough'], df_neighbourhoods_toronto['Neighborhood'], df_neighbourhoods_toronto['PostalCode']):\n",
    "    label = '{}'.format(postalCode)\n",
    "    label = folium.Popup(label, parse_html=True)\n",
    "\n",
    "    folium.CircleMarker(\n",
    "        [lat, lng],\n",
    "        radius=5,\n",
    "        popup=label,\n",
    "        color='blue',\n",
    "        fill=True,\n",
    "        fill_color='#3186cc',\n",
    "        fill_opacity=0.7).add_to(map_toronto) \n",
    "    \n",
    "map_toronto"
   ]
  },
  {
   "cell_type": "code",
   "execution_count": null,
   "metadata": {},
   "outputs": [],
   "source": [
    "# create map of Toronto using latitude and longitude values\n",
    "map_toronto_radius = folium.Map(location=[latitude_toronto, longitude_toronto], zoom_start=11)\n",
    "\n",
    "# add markers to map\n",
    "for lat, lng, borough, neighborhood, postalCode in zip(df_neighbourhoods_toronto['Latitude'], df_neighbourhoods_toronto['Longitude'], df_neighbourhoods_toronto['Borough'], df_neighbourhoods_toronto['Neighborhood'], df_neighbourhoods_toronto['PostalCode']):\n",
    "    label = '{}'.format(postalCode)\n",
    "    label = folium.Popup(label, parse_html=True)\n",
    "\n",
    "    folium.Circle(\n",
    "        [lat, lng],\n",
    "        radius=CONST_venuesRadiusScan,\n",
    "        popup=label,\n",
    "        color='blue',\n",
    "        fill=True,\n",
    "        fill_color='#3186cc',\n",
    "        fill_opacity=0.3).add_to(map_toronto_radius) \n",
    "    \n",
    "map_toronto_radius"
   ]
  },
  {
   "cell_type": "markdown",
   "metadata": {},
   "source": [
    "##Utilizing the Foursquare API to explore and segment neighborhoods\n",
    "\n",
    "CLIENT_ID = 2GFKIZFPHZMTSMVADOZIQK2SHKOMAFGOBFL03UPJAFI1VU4C # your Foursquare ID\n",
    "CLIENT_SECRET = HTHH43W3AKEFZH5XDJKZC0YXMQ0DH34HB5CJPT0IJZLEAIWF # your Foursquare Secret\n",
    "VERSION = '20180604'   #'20180605' Foursquare API Version\n",
    "LIMIT = 30"
   ]
  },
  {
   "cell_type": "code",
   "execution_count": null,
   "metadata": {},
   "outputs": [],
   "source": [
    "\n",
    "def getNearbyVenues(postalCodes, boroughs, neighbourhoods, latitudes, longitudes):\n",
    "    \n",
    "    venues_list=[]\n",
    "    # Loop through each neighbourhood given in parameters\n",
    "    for postalCode, borough, neighbourhood, lat, lng in zip(postalCodes, boroughs, neighbourhoods, latitudes, longitudes):\n",
    "            \n",
    "        # create the API request URL to explore the neighbourhood using FoursquareAPI\n",
    "        url = 'https://api.foursquare.com/v2/venues/explore?&client_id={}&client_secret={}&v={}&ll={},{}&radius={}&limit={}'.format(\n",
    "            CLIENT_ID, \n",
    "            CLIENT_SECRET, \n",
    "            VERSION, \n",
    "            lat, \n",
    "            lng, \n",
    "            CONST_venuesRadiusScan, \n",
    "            CONST_venuesLimit)\n",
    "\n",
    "        # make the GET request\n",
    "        results = requests.get(url).json()[\"response\"]['groups'][0]['items']\n",
    "        \n",
    "        # return only relevant information for each nearby venue : name, latitude, longitude, and the categories' names\n",
    "        venues_list.append([(\n",
    "            postalCode,\n",
    "            borough,\n",
    "            neighbourhood, \n",
    "            lat, \n",
    "            lng, \n",
    "            v['venue']['name'], \n",
    "            v['venue']['location']['lat'], \n",
    "            v['venue']['location']['lng'],  \n",
    "            v['venue']['categories'][0]['name']) for v in results])\n",
    "\n",
    "    # add the venues in the dataframe\n",
    "    nearby_venues = pd.DataFrame([item for venue_list in venues_list for item in venue_list])\n",
    "    nearby_venues.columns = [\n",
    "                        'PostalCode',\n",
    "                        'Borough',\n",
    "                        'Neighborhood', \n",
    "                        'Neighborhood Latitude', \n",
    "                        'Neighborhood Longitude', \n",
    "                        'Venue', \n",
    "                        'Venue Latitude', \n",
    "                        'Venue Longitude', \n",
    "                        'Venue Category'\n",
    "    ]\n",
    "    \n",
    "    return(nearby_venues)"
   ]
  },
  {
   "cell_type": "code",
   "execution_count": null,
   "metadata": {},
   "outputs": [],
   "source": [
    "# Get the venues for each neighbourhood\n",
    "toronto_venues = getNearbyVenues(  \n",
    "                                    postalCodes=df_neighbourhoods_toronto['PostalCode'],\n",
    "                                    boroughs=df_neighbourhoods_toronto['Borough'],\n",
    "                                    neighbourhoods=df_neighbourhoods_toronto['Neighborhood'],\n",
    "                                    latitudes=df_neighbourhoods_toronto['Latitude'],\n",
    "                                    longitudes=df_neighbourhoods_toronto['Longitude']\n",
    "                                  )\n",
    "\n",
    "toronto_venues.head()"
   ]
  },
  {
   "cell_type": "markdown",
   "metadata": {},
   "source": [
    "##Analyse each neighborhood : each type of venue will be one hot encoded so we will be able to perform a K-means clustering on the dataframe"
   ]
  },
  {
   "cell_type": "code",
   "execution_count": null,
   "metadata": {},
   "outputs": [],
   "source": [
    "# one hot encoding\n",
    "toronto_onehot = pd.get_dummies(toronto_venues[['Venue Category']], prefix=\"\", prefix_sep=\"\")\n",
    "\n",
    "# add postalCode, borough, and neighborhood column back to dataframe\n",
    "toronto_onehot['PostalCode'] = toronto_venues['PostalCode'] \n",
    "toronto_onehot['Borough'] = toronto_venues['Borough'] \n",
    "\n",
    "toronto_onehot.pop('Neighborhood')\n",
    "toronto_onehot['Neighborhood'] = toronto_venues['Neighborhood'] \n",
    "\n",
    "# move postalCode, borough, neighborhood column to the first column\n",
    "for i in range(0, 3):\n",
    "    toronto_onehot = toronto_onehot[[toronto_onehot.columns[-1]] + list(toronto_onehot.columns[:-1])]\n",
    "\n",
    "toronto_onehot.head()"
   ]
  },
  {
   "cell_type": "code",
   "execution_count": null,
   "metadata": {},
   "outputs": [],
   "source": [
    "toronto_grouped = toronto_onehot.groupby(['PostalCode','Borough', 'Neighborhood']).mean().reset_index()\n",
    "toronto_grouped.head()"
   ]
  },
  {
   "cell_type": "code",
   "execution_count": null,
   "metadata": {},
   "outputs": [],
   "source": [
    "num_top_venues = 5\n",
    "\n",
    "# Iterate through all the grouped dataframe\n",
    "for index, row in toronto_grouped.iterrows():\n",
    "    tempPostalCode = row['PostalCode']\n",
    "    tempBorough = row['Borough']\n",
    "    tempNeighborhood = row['Neighborhood']\n",
    "    \n",
    "    print(\"----\"+tempPostalCode + \" / \" + tempBorough + \" / \" + tempNeighborhood +\"----\")\n",
    "    \n",
    "    # Create a temp df filtered on the current neighbourhood (key : postal code x borouhg x neighbourhood)\n",
    "    temp = toronto_grouped[\n",
    "        (toronto_grouped.PostalCode == tempPostalCode) &\n",
    "        (toronto_grouped.Borough == tempBorough) &\n",
    "        (toronto_grouped.Neighborhood == tempNeighborhood)\n",
    "    ].T.reset_index()\n",
    "    \n",
    "    temp.columns = ['venue','freq']\n",
    "\n",
    "    # We skip the key PostalCode x Borough x Neighbourhood : length = 3, iloc[3:]\n",
    "    temp = temp.iloc[len(CONST_dfColumns):]\n",
    "    temp['freq'] = temp['freq'].astype(float)\n",
    "    \n",
    "    # Round the frequency with two digits\n",
    "    temp = temp.round({'freq': 2})\n",
    "    \n",
    "    print(temp.sort_values('freq', ascending=False).reset_index(drop=True).head(num_top_venues))\n",
    "    print('\\n')"
   ]
  },
  {
   "cell_type": "code",
   "execution_count": null,
   "metadata": {},
   "outputs": [],
   "source": [
    "\n",
    "def return_most_common_venues(row, num_top_venues):\n",
    "    # Remove the key PostalCode x Borough x Neighbourhood from the row\n",
    "    row_categories = row.iloc[len(CONST_dfColumns):]\n",
    "    \n",
    "    # Sort ascending\n",
    "    row_categories_sorted = row_categories.sort_values(ascending=False)\n",
    "    \n",
    "    # Return the top num_top_venues\n",
    "    return row_categories_sorted.index.values[0:num_top_venues]"
   ]
  },
  {
   "cell_type": "code",
   "execution_count": null,
   "metadata": {},
   "outputs": [],
   "source": [
    "num_top_venues = 10\n",
    "\n",
    "indicators = ['st', 'nd', 'rd']\n",
    "\n",
    "# create columns according to number of top venues\n",
    "columns = ['PostalCode', 'Borough', 'Neighborhood']\n",
    "\n",
    "for ind in np.arange(num_top_venues):\n",
    "    try:\n",
    "        columns.append('{}{} Most Common Venue'.format(ind+1, indicators[ind]))\n",
    "    except:\n",
    "        columns.append('{}th Most Common Venue'.format(ind+1))\n",
    "\n",
    "# create a new dataframe, and set it with the columns names\n",
    "neighborhoods_venues_sorted = pd.DataFrame(columns=columns)\n",
    "\n",
    "# add the keys from the grouped dataframe (Postal code x Borough x Neighborhood)\n",
    "neighborhoods_venues_sorted['PostalCode'] = toronto_grouped['PostalCode']\n",
    "neighborhoods_venues_sorted['Borough'] = toronto_grouped['Borough']\n",
    "neighborhoods_venues_sorted['Neighborhood'] = toronto_grouped['Neighborhood']\n",
    "\n",
    "# loop through each rows\n",
    "for ind in np.arange(toronto_grouped.shape[0]):\n",
    "    neighborhoods_venues_sorted.iloc[ind, len(CONST_dfColumns):] = return_most_common_venues(toronto_grouped.iloc[ind, :], num_top_venues)\n",
    "\n",
    "neighborhoods_venues_sorted.head()"
   ]
  },
  {
   "cell_type": "code",
   "execution_count": null,
   "metadata": {},
   "outputs": [],
   "source": [
    "\n",
    "# set number of clusters\n",
    "kclusters = 5\n",
    "\n",
    "toronto_grouped_clustering = toronto_grouped.drop('Neighborhood', 1)\n",
    "toronto_grouped_clustering = toronto_grouped_clustering.drop('PostalCode', 1)\n",
    "toronto_grouped_clustering = toronto_grouped_clustering.drop('Borough', 1)\n",
    "\n",
    "# run k-means clustering\n",
    "kmeans = KMeans(n_clusters=kclusters, random_state=0).fit(toronto_grouped_clustering)\n",
    "\n",
    "# check cluster labels generated for each row in the dataframe\n",
    "kmeans.labels_[0:10]"
   ]
  },
  {
   "cell_type": "code",
   "execution_count": null,
   "metadata": {},
   "outputs": [],
   "source": [
    "\n",
    "# add clustering labels\n",
    "neighborhoods_venues_sorted.insert(0, 'Cluster Labels', kmeans.labels_)"
   ]
  },
  {
   "cell_type": "code",
   "execution_count": null,
   "metadata": {},
   "outputs": [],
   "source": [
    "\n",
    "toronto_merged = df_neighbourhoods_toronto\n",
    "\n",
    "# merge toronto_grouped with toronto_data to add latitude/longitude for each neighborhood\n",
    "toronto_merged = toronto_merged.join(neighborhoods_venues_sorted.set_index(['PostalCode','Borough', 'Neighborhood']), on=['PostalCode','Borough', 'Neighborhood'])\n",
    "\n",
    "toronto_merged.head() # check the last columns!"
   ]
  },
  {
   "cell_type": "code",
   "execution_count": null,
   "metadata": {},
   "outputs": [],
   "source": [
    "\n",
    "# create map\n",
    "map_clusters = folium.Map(location=[latitude, longitude], zoom_start=11)\n",
    "\n",
    "# set color scheme for the clusters\n",
    "x = np.arange(kclusters)\n",
    "ys = [i + x + (i*x)**2 for i in range(kclusters)]\n",
    "colors_array = cm.rainbow(np.linspace(0, 1, len(ys)))\n",
    "rainbow = [colors.rgb2hex(i) for i in colors_array]\n",
    "\n",
    "# add markers to the map\n",
    "markers_colors = []\n",
    "for lat, lon, postalCode, borough, neighborhood, cluster in zip(toronto_merged['Latitude'], toronto_merged['Longitude'], toronto_merged['PostalCode'], toronto_merged['Borough'], toronto_merged['Neighborhood'], toronto_merged['Cluster Labels']):\n",
    "    label = folium.Popup(str(postalCode) + ' - Cluster ' + str(cluster), parse_html=True)\n",
    "    cluster = int(cluster)\n",
    "    folium.CircleMarker(\n",
    "        [lat, lon],\n",
    "        radius=5,\n",
    "        popup=label,\n",
    "        color=rainbow[cluster-1],\n",
    "        fill=True,\n",
    "        fill_color=rainbow[cluster-1],\n",
    "        fill_opacity=0.7).add_to(map_clusters)\n",
    "       \n",
    "map_clusters"
   ]
  },
  {
   "cell_type": "code",
   "execution_count": null,
   "metadata": {},
   "outputs": [],
   "source": [
    "### Examine clusters\n",
    "\n",
    "Cluster 0 focuses on Parks, Gyms, and places to practice sports and/or chillout outside.\n",
    "We can see that most of the neighbourhoods categorised in this cluster are near several parks on the map."
   ]
  },
  {
   "cell_type": "code",
   "execution_count": null,
   "metadata": {},
   "outputs": [],
   "source": [
    "\n",
    "toronto_merged[toronto_merged['Cluster Labels'] == 0].head(10)"
   ]
  },
  {
   "cell_type": "code",
   "execution_count": null,
   "metadata": {},
   "outputs": [],
   "source": [
    "### Cluster 1 focuses on the diversity of restaurants, coffee shops, and bars.\n",
    "We can see that the downtown of Toronto is highly categorised in this cluster."
   ]
  },
  {
   "cell_type": "code",
   "execution_count": null,
   "metadata": {},
   "outputs": [],
   "source": [
    "\n",
    "toronto_merged[toronto_merged['Cluster Labels'] == 1].head(10)"
   ]
  },
  {
   "cell_type": "code",
   "execution_count": null,
   "metadata": {},
   "outputs": [],
   "source": [
    "### Cluster 2 is an outlier, its 1st common Venue is Zoo Exhibit, it also features Hobby shops, Electronics Stores ..."
   ]
  },
  {
   "cell_type": "code",
   "execution_count": null,
   "metadata": {},
   "outputs": [],
   "source": [
    "toronto_merged[toronto_merged['Cluster Labels'] == 2].head(10)"
   ]
  },
  {
   "cell_type": "code",
   "execution_count": null,
   "metadata": {},
   "outputs": [],
   "source": [
    "###Cluster 3 is an outlier, its 1st commont venue is Bakery, and it also features Farms, Event spaces ..."
   ]
  },
  {
   "cell_type": "code",
   "execution_count": null,
   "metadata": {},
   "outputs": [],
   "source": [
    "\n",
    "toronto_merged[toronto_merged['Cluster Labels'] == 3].head(10)"
   ]
  },
  {
   "cell_type": "code",
   "execution_count": null,
   "metadata": {},
   "outputs": [],
   "source": [
    "### Cluster 4 focuses on Fast foods, pizzas and restaurants in general.\n",
    "We can see that this cluster is predominant outside of the downtown."
   ]
  },
  {
   "cell_type": "code",
   "execution_count": null,
   "metadata": {},
   "outputs": [],
   "source": [
    "toronto_merged[toronto_merged['Cluster Labels'] == 4].head(10)"
   ]
  },
  {
   "cell_type": "code",
   "execution_count": null,
   "metadata": {},
   "outputs": [],
   "source": []
  }
 ],
 "metadata": {
  "kernelspec": {
   "display_name": "Python 3",
   "language": "python",
   "name": "python3"
  },
  "language_info": {
   "codemirror_mode": {
    "name": "ipython",
    "version": 3
   },
   "file_extension": ".py",
   "mimetype": "text/x-python",
   "name": "python",
   "nbconvert_exporter": "python",
   "pygments_lexer": "ipython3",
   "version": "3.7.4"
  }
 },
 "nbformat": 4,
 "nbformat_minor": 2
}
