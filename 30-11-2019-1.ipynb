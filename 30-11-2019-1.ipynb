{
 "cells": [
  {
   "cell_type": "code",
   "execution_count": null,
   "metadata": {},
   "outputs": [],
   "source": [
    "### Part 1 - Read the data from the Toronto Open Data dataset\n"
   ]
  },
  {
   "cell_type": "code",
   "execution_count": null,
   "metadata": {},
   "outputs": [],
   "source": [
    "import pandas as pd\n",
    "import numpy as np\n",
    "\n",
    "# Import Geocoder to get each area's coordinates\n",
    "#!conda install -c conda-forge geocoder             #Uncomment this if geocoder is not installed on your system\n",
    "import geocoder # import geocoder\n",
    "\n",
    "# Import k-means for clustering stage\n",
    "from sklearn.cluster import KMeans\n",
    "# MinMaxScaler for normalization : to find the best K for K-Means\n",
    "from sklearn.preprocessing import MinMaxScaler\n",
    "\n",
    "# Import Folium to draw maps\n",
    "#!conda install -c conda-forge folium                #Uncomment this if folium is not installed on your system\n",
    "import folium\n",
    "\n",
    "# Matplotlib and associated plotting modules\n",
    "import matplotlib.cm as cm\n",
    "import matplotlib.colors as colors\n",
    "import matplotlib.pyplot as plt\n",
    "\n",
    "# Import Requests for querying FoursquareAPI\n",
    "import requests"
   ]
  },
  {
   "cell_type": "code",
   "execution_count": null,
   "metadata": {},
   "outputs": [],
   "source": [
    "# Demographic data of Toronto's areas\n",
    "CONST_demographicDataLink = \"https://www.toronto.ca/ext/open_data/catalog/data_set_files/2016_neighbourhood_profiles.csv\""
   ]
  },
  {
   "cell_type": "code",
   "execution_count": null,
   "metadata": {},
   "outputs": [],
   "source": [
    "CLIENT_ID = 2GFKIZFPHZMTSMVADOZIQK2SHKOMAFGOBFL03UPJAFI1VU4C # your Foursquare ID\n",
    "CLIENT_SECRET = HTHH43W3AKEFZH5XDJKZC0YXMQ0DH34HB5CJPT0IJZLEAIWF # your Foursquare Secret\n",
    "VERSION = '20180604'\n",
    "#VERSION = '20180605' # Foursquare API version\n",
    "\n",
    "# Size of the radius to retrieve venues from FoursquareAPI, and limit of venues per neighbourhood\n",
    "CONST_venuesRadiusScan = 1000\n",
    "CONST_venuesLimit = 1000"
   ]
  },
  {
   "cell_type": "code",
   "execution_count": null,
   "metadata": {},
   "outputs": [],
   "source": [
    "\n",
    "df_raw = pd.read_csv(CONST_demographicDataLink, encoding = \"cp1252\", thousands=',')"
   ]
  },
  {
   "cell_type": "code",
   "execution_count": null,
   "metadata": {},
   "outputs": [],
   "source": [
    "\n",
    "# Get only data about areas information : filter on Characteristic\n",
    "df_cityAreas = df_raw[df_raw.Characteristic == \"Neighbourhood Number\"]\n",
    "\n",
    "# Drop the useless columns, only keep CDN x City_Area\n",
    "df_cityAreas = df_cityAreas.drop(df_cityAreas.columns[[0,1,2,3,4]], axis=1)\n",
    "\n",
    "# Format the dataframe\n",
    "df_cityAreas = df_cityAreas.transpose()\n",
    "df_cityAreas = df_cityAreas.reset_index()\n",
    "df_cityAreas = df_cityAreas.iloc[:, ::-1]\n",
    "df_cityAreas.columns = ['CDN', 'City_Area']\n",
    "df_cityAreas.head()"
   ]
  },
  {
   "cell_type": "code",
   "execution_count": null,
   "metadata": {},
   "outputs": [],
   "source": [
    "# This function will count the leading space so we will know the data structure tree\n",
    "def countLeadingSpaces(str):\n",
    "    return len(str) - len(str.lstrip())"
   ]
  },
  {
   "cell_type": "code",
   "execution_count": null,
   "metadata": {},
   "outputs": [],
   "source": [
    "df_demographic = df_raw.apply(lambda x: x.str.replace(',',''))\n",
    "\n",
    "# Filter on Topic = 'Ethnic origin population' to retrieve data about ethnic origins only\n",
    "df_demographic = df_demographic[df_demographic.Topic == 'Ethnic origin population']\n",
    "\n",
    "# Calculate the depth of Ethnic origin\n",
    "df_demographic['Depth'] = df_demographic['Characteristic']\n",
    "\n",
    "for index, row in df_demographic.iterrows():\n",
    "    # The depth of Ethnic origin is calculated using the leading spaces in the data\n",
    "    row['Depth'] = countLeadingSpaces(row['Depth'])\n",
    "\n",
    "# Find each depth level of Ethnic origin, so we will be able to only keep the deepest levels\n",
    "df_demographic['newLevel'] = np.where((df_demographic['Depth'].shift(+1) > df_demographic['Depth']),\"new\",\"\")\n",
    "    \n",
    "# Reverse the dataframe\n",
    "df_demographic = df_demographic.iloc[::-1"
   ]
  },
  {
   "cell_type": "code",
   "execution_count": null,
   "metadata": {},
   "outputs": [],
   "source": [
    "\n",
    "# Keep value will tell us if we need to keep the row (deepest level) or if we need to drop it\n",
    "df_demographic['Keep'] = 0\n",
    "tmpDepth = \"\"\n",
    "\n",
    "# Loop through each row\n",
    "for index, row in df_demographic.iterrows():\n",
    "    # We keep the first element, because the dataframe has been reversed so the first row is a deepest level\n",
    "    if tmpDepth == \"\":\n",
    "        df_demographic.loc[index, 'Keep'] = 1\n",
    "        \n",
    "        # We keep the current level of depth in a temp variable, so we will be able to compare it in the next row iterration\n",
    "        tmpDepth = row['Depth']\n",
    "    \n",
    "    else:\n",
    "        # If the depth level of the previous row equals the depth level of the current row : same depth, so we keep the row\n",
    "        if tmpDepth == row['Depth']:\n",
    "            df_demographic.loc[index, 'Keep'] = 1\n",
    "        \n",
    "        # New level : we reset the temp variable\n",
    "        elif row['newLevel'] == \"new\":\n",
    "            # Reset tmpDepth\n",
    "            tmpDepth = \"\"\n",
    "            \n",
    "# Reverse the dataframe\n",
    "df_demographic = df_demographic.iloc[::-1]\n",
    "\n",
    "# Keep only the necessary rows\n",
    "df_demographic = df_demographic[df_demographic.Keep == 1]\n",
    "\n",
    "# Drop the useless columns\n",
    "df_demographic = df_demographic.drop(['Depth', 'newLevel', 'Keep'], 1)\n",
    "df_demographic.head()"
   ]
  },
  {
   "cell_type": "code",
   "execution_count": null,
   "metadata": {},
   "outputs": [],
   "source": [
    "# Drop the useless columns\n",
    "df_demographic.drop(df_demographic.columns[[0, 1, 2, 4]], axis=1, inplace=True)\n",
    "df_demographic.rename(columns={'Characteristic':''}, inplace=True)\n",
    "\n",
    "# Put the city areas names as the dataframe columns\n",
    "df_demographic = df_demographic.transpose()\n",
    "df_demographic.columns = df_demographic.iloc[0]\n",
    "df_demographic = df_demographic.iloc[1:]\n",
    "\n",
    "# Drop the Total column as we won't use it\n",
    "df_demographic.drop(df_demographic.columns[[0]], axis=1, inplace=True)\n",
    "\n",
    "# Format the dataframe\n",
    "df_demographic = df_demographic.reset_index()\n",
    "df_demographic.rename(columns={'index':'City_Area'}, inplace=True)\n",
    "df_demographic.head()"
   ]
  },
  {
   "cell_type": "code",
   "execution_count": null,
   "metadata": {},
   "outputs": [],
   "source": [
    "### Part 2 - Add the latitude and the longitude coordinates of each city area\n"
   ]
  },
  {
   "cell_type": "code",
   "execution_count": null,
   "metadata": {},
   "outputs": [],
   "source": [
    "\n",
    "# This function returns the latitude and longitude of the given postal code, in Toronto\n",
    "def getCoordsByCityArea(area):\n",
    "    # initialize to None : this variable will allow us to loop until geocoder responds with the coordinates\n",
    "    lat_lng_coords = None\n",
    "\n",
    "    # loop until we get the coordinates\n",
    "    while(lat_lng_coords is None):\n",
    "        g = geocoder.arcgis('{}, Toronto, Ontario'.format(area))\n",
    "        lat_lng_coords = g.latlng\n",
    "\n",
    "    latitude = lat_lng_coords[0]\n",
    "    longitude = lat_lng_coords[1]\n",
    "    \n",
    "    return latitude, longitude"
   ]
  },
  {
   "cell_type": "code",
   "execution_count": null,
   "metadata": {},
   "outputs": [],
   "source": [
    "areasWithCoordsList = []\n",
    "\n",
    "# Loop through each postal code from our dataframe\n",
    "for area in df_cityAreas['City_Area']:\n",
    "    # Fill the temp list with the coordinates from geocoder\n",
    "    latitude, longitude = getCoordsByCityArea(area)\n",
    "    areasWithCoordsList.append([area, latitude, longitude])\n",
    "    \n",
    "# Transform the temp list into a dataframe\n",
    "df_coords = pd.DataFrame(areasWithCoordsList)\n",
    "df_coords.columns = ['City_Area', 'Latitude', 'Longitude']\n",
    "\n",
    "# Merge the coordinates dataframe with the original neighbourhoods dataframe (key : postal code)\n",
    "df_cityAreas = pd.merge(df_cityAreas, df_coords, on='City_Area')\n",
    "df_cityAreas.head()"
   ]
  },
  {
   "cell_type": "code",
   "execution_count": null,
   "metadata": {},
   "outputs": [],
   "source": [
    "### Part 3 - Neighbourhoods clustering using ethnic origins\n"
   ]
  },
  {
   "cell_type": "code",
   "execution_count": null,
   "metadata": {},
   "outputs": [],
   "source": [
    "address = 'Toronto, ON'\n",
    "\n",
    "# initialize to None\n",
    "lat_lng_coords = None\n",
    "\n",
    "# loop until we get the coordinates\n",
    "while(lat_lng_coords is None):\n",
    "    g = geocoder.arcgis('Toronto, Ontario')\n",
    "    lat_lng_coords = g.latlng\n",
    "\n",
    "latitude_toronto = lat_lng_coords[0]\n",
    "longitude_toronto = lat_lng_coords[1]\n",
    "\n",
    "print('The geographical coordinate of Toronto are {}, {}.'.format(latitude_toronto, longitude_toronto))"
   ]
  },
  {
   "cell_type": "code",
   "execution_count": null,
   "metadata": {},
   "outputs": [],
   "source": [
    "\n",
    "# create map of Toronto using latitude and longitude values\n",
    "map_toronto = folium.Map(location=[latitude_toronto, longitude_toronto], zoom_start=11)\n",
    "\n",
    "# add markers to map\n",
    "for lat, lng, CDN, City_Area in zip(df_cityAreas['Latitude'], df_cityAreas['Longitude'], df_cityAreas['CDN'], df_cityAreas['City_Area']):\n",
    "    label = '{} - {}'.format(CDN, City_Area)\n",
    "    label = folium.Popup(label, parse_html=True)\n",
    "\n",
    "    folium.CircleMarker(\n",
    "        [lat, lng],\n",
    "        radius=5,\n",
    "        popup=label,\n",
    "        color='blue',\n",
    "        fill=True,\n",
    "        fill_color='#3186cc',\n",
    "        fill_opacity=0.7).add_to(map_toronto) \n",
    "    \n",
    "map_toronto"
   ]
  },
  {
   "cell_type": "code",
   "execution_count": null,
   "metadata": {},
   "outputs": [],
   "source": [
    "\n",
    "num_top = 10\n",
    "\n",
    "# Iterate through all the dataframe\n",
    "for index, row in df_demographic.iterrows():\n",
    "    tempArea = row['City_Area']\n",
    "    \n",
    "    print(\"----\"+tempArea+\"----\")\n",
    "    \n",
    "    # Create a temp df filtered on the current neighbourhood (key : City_Area)\n",
    "    temp = df_demographic[\n",
    "        (df_demographic.City_Area == tempArea)\n",
    "    ].T.reset_index()\n",
    "    \n",
    "    temp.columns = ['Origin','Count']\n",
    "\n",
    "    # We skip the key PostalCode x Borough x Neighbourhood : length = 3, iloc[3:]\n",
    "    temp = temp.iloc[1:]\n",
    "    temp['Count'] = temp['Count'].astype(float)\n",
    "    \n",
    "    # Round the frequency with two digits\n",
    "    temp = temp.round({'Count': 2})\n",
    "    \n",
    "    print(temp.sort_values('Count', ascending=False).reset_index(drop=True).head(num_top))\n",
    "    print('\\n')"
   ]
  },
  {
   "cell_type": "code",
   "execution_count": null,
   "metadata": {},
   "outputs": [],
   "source": [
    "\n",
    "def return_most_common_ethn(row, num_top):\n",
    "    # Remove the key from the row\n",
    "    row_categories = row.iloc[1:].astype(float)\n",
    "    \n",
    "    # Sort ascending\n",
    "    row_categories_sorted = row_categories.sort_values(ascending=False)\n",
    "    \n",
    "    # Return the top num_top_venues\n",
    "    return row_categories_sorted.index.values[0:num_top]"
   ]
  },
  {
   "cell_type": "code",
   "execution_count": null,
   "metadata": {},
   "outputs": [],
   "source": [
    "\n",
    "num_top = 10\n",
    "\n",
    "indicators = ['st', 'nd', 'rd']\n",
    "\n",
    "# create columns according to number of top venues\n",
    "columns = ['City_Area']\n",
    "\n",
    "for ind in np.arange(num_top):\n",
    "    try:\n",
    "        columns.append('{}{} Most Common Origin'.format(ind+1, indicators[ind]))\n",
    "    except:\n",
    "        columns.append('{}th Most Common Origin'.format(ind+1))\n",
    "\n",
    "# create a new dataframe, and set it with the columns names\n",
    "areas_ethn_sorted = pd.DataFrame(columns=columns)\n",
    "\n",
    "# add the keys from the grouped dataframe (City_Area)\n",
    "areas_ethn_sorted['City_Area'] = df_demographic['City_Area']\n",
    "\n",
    "# loop through each rows\n",
    "for ind in np.arange(df_demographic.shape[0]):\n",
    "    areas_ethn_sorted.iloc[ind, 1:] = return_most_common_ethn(df_demographic.iloc[ind, :], num_top)\n",
    "\n",
    "areas_ethn_sorted.head()"
   ]
  },
  {
   "cell_type": "code",
   "execution_count": null,
   "metadata": {},
   "outputs": [],
   "source": [
    "toronto_areas_clustering = df_demographic.drop('City_Area', 1)\n",
    "\n",
    "data = toronto_areas_clustering.astype(float)\n",
    "\n",
    "data.head()"
   ]
  },
  {
   "cell_type": "code",
   "execution_count": null,
   "metadata": {},
   "outputs": [],
   "source": [
    "\n",
    "mms = MinMaxScaler()\n",
    "mms.fit(data)\n",
    "data_transformed = mms.transform(data)\n",
    "\n",
    "pd.DataFrame(data_transformed).head()"
   ]
  },
  {
   "cell_type": "code",
   "execution_count": null,
   "metadata": {},
   "outputs": [],
   "source": [
    "\n",
    "Nc = range(1, 20)\n",
    "kmeans = [KMeans(n_clusters=i) for i in Nc]\n",
    "kmeans\n",
    "score = [kmeans[i].fit(data).score(data) for i in range(len(kmeans))]\n",
    "score\n",
    "plt.plot(Nc,score)\n",
    "plt.xlabel('Number of Clusters')\n",
    "plt.ylabel('Score')\n",
    "plt.title('Elbow Curve')\n",
    "plt.show()"
   ]
  },
  {
   "cell_type": "code",
   "execution_count": null,
   "metadata": {},
   "outputs": [],
   "source": [
    "# set number of clusters\n",
    "kclusters = 5\n",
    "\n",
    "toronto_areas_clustering = df_demographic.drop('City_Area', 1)\n",
    "\n",
    "# run k-means clustering\n",
    "kmeans = KMeans(n_clusters=kclusters, random_state=0).fit(data)\n",
    "\n",
    "# check cluster labels generated for each row in the dataframe\n",
    "kmeans.labels_[0:10]"
   ]
  },
  {
   "cell_type": "code",
   "execution_count": null,
   "metadata": {},
   "outputs": [],
   "source": [
    "\n",
    "# add clustering labels\n",
    "areas_ethn_sorted.insert(0, 'Cluster Labels', kmeans.labels_)"
   ]
  },
  {
   "cell_type": "code",
   "execution_count": null,
   "metadata": {},
   "outputs": [],
   "source": [
    "\n",
    "toronto_merged = df_cityAreas\n",
    "\n",
    "# merge toronto_grouped with toronto_data to add latitude/longitude for each neighborhood\n",
    "toronto_merged = toronto_merged.join(areas_ethn_sorted.set_index(['City_Area']), on=['City_Area'])\n",
    "\n",
    "toronto_merged.head() # check the last columns!"
   ]
  },
  {
   "cell_type": "code",
   "execution_count": null,
   "metadata": {},
   "outputs": [],
   "source": [
    "\n",
    "# create map\n",
    "map_clusters = folium.Map(location=[latitude, longitude], zoom_start=11)\n",
    "\n",
    "# set color scheme for the clusters\n",
    "x = np.arange(kclusters)\n",
    "ys = [i + x + (i*x)**2 for i in range(kclusters)]\n",
    "colors_array = cm.rainbow(np.linspace(0, 1, len(ys)))\n",
    "rainbow = [colors.rgb2hex(i) for i in colors_array]\n",
    "\n",
    "# add markers to the map\n",
    "markers_colors = []\n",
    "for lat, lon, cityArea, cluster in zip(toronto_merged['Latitude'], toronto_merged['Longitude'], toronto_merged['City_Area'], toronto_merged['Cluster Labels']):\n",
    "    label = folium.Popup(str(cityArea) + ' - Cluster ' + str(cluster), parse_html=True)\n",
    "    cluster = int(cluster)\n",
    "    folium.CircleMarker(\n",
    "        [lat, lon],\n",
    "        radius=5,\n",
    "        popup=label,\n",
    "        color=rainbow[cluster-1],\n",
    "        fill=True,\n",
    "        fill_color=rainbow[cluster-1],\n",
    "        fill_opacity=0.7).add_to(map_clusters)\n",
    "       \n",
    "map_clusters"
   ]
  },
  {
   "cell_type": "code",
   "execution_count": null,
   "metadata": {},
   "outputs": [],
   "source": [
    "### Cluster 0 regroups areas higly habited by European and Canadian people.\n",
    "We can see English, Italian, Portuguese, French people ...\n",
    "These clusters are represented by red circles on the map. We can see that most of them are positioned in almost all the south of Toronto, and in the downtown."
   ]
  },
  {
   "cell_type": "code",
   "execution_count": null,
   "metadata": {},
   "outputs": [],
   "source": [
    "toronto_merged[toronto_merged['Cluster Labels'] == 0].head(50)"
   ]
  },
  {
   "cell_type": "code",
   "execution_count": null,
   "metadata": {},
   "outputs": [],
   "source": [
    "###Cluster 1 regroups areas higly habited by Chinese people, and people from others countries in Asia.\n",
    "These are represented by violet circles on the map. We can see that most of them are positioned at the north of Toronto."
   ]
  },
  {
   "cell_type": "code",
   "execution_count": null,
   "metadata": {},
   "outputs": [],
   "source": [
    "\n",
    "toronto_merged[toronto_merged['Cluster Labels'] == 1].head(50)"
   ]
  },
  {
   "cell_type": "code",
   "execution_count": null,
   "metadata": {},
   "outputs": [],
   "source": [
    "##Cluster 2 concentrates areas haghly habited by Indian people.\n",
    "These clusters are represented by dark green. We can see that these areas are located at the edges of Toronto."
   ]
  },
  {
   "cell_type": "code",
   "execution_count": null,
   "metadata": {},
   "outputs": [],
   "source": [
    "\n",
    "toronto_merged[toronto_merged['Cluster Labels'] == 2].head(10)"
   ]
  },
  {
   "cell_type": "code",
   "execution_count": null,
   "metadata": {},
   "outputs": [],
   "source": [
    "##Cluster 3 also regroups areas higly habited by asian people, the most common ethnic origin is Chinese.\n",
    "These are represented by light green circles on the map. We can see that most of them are positioned at the north east of Toronto, next to the cluster 1."
   ]
  },
  {
   "cell_type": "code",
   "execution_count": null,
   "metadata": {},
   "outputs": [],
   "source": [
    "toronto_merged[toronto_merged['Cluster Labels'] == 3].head(10)"
   ]
  },
  {
   "cell_type": "code",
   "execution_count": null,
   "metadata": {},
   "outputs": [],
   "source": [
    "##Cluster 4 regroups areas higly habited by English, Irish, Scottish and Canadian people.\n",
    "We can also see that there are a lot of people from other european countries as well, such as French, German, Polish, ...\n",
    "These are represented by yellow circles on the map. We can see that most of them are positioned at the south and in the downtown of Toronto."
   ]
  },
  {
   "cell_type": "code",
   "execution_count": null,
   "metadata": {},
   "outputs": [],
   "source": [
    "toronto_merged[toronto_merged['Cluster Labels'] == 4].head(50)"
   ]
  },
  {
   "cell_type": "code",
   "execution_count": null,
   "metadata": {},
   "outputs": [],
   "source": [
    "##Part 4 - Use cases\n"
   ]
  },
  {
   "cell_type": "code",
   "execution_count": null,
   "metadata": {},
   "outputs": [],
   "source": [
    "\n",
    "def getNearbyVenues(cdn, latitudes, longitudes):\n",
    "    \n",
    "    venues_list=[]\n",
    "    # Loop through each neighbourhood given in parameters\n",
    "    for cdn, lat, lng in zip(cdn, latitudes, longitudes):\n",
    "\n",
    "        # create the API request URL to explore the neighbourhood using FoursquareAPI\n",
    "        url = 'https://api.foursquare.com/v2/venues/explore?&client_id={}&client_secret={}&v={}&ll={},{}&radius={}&limit={}'.format(\n",
    "            CLIENT_ID, \n",
    "            CLIENT_SECRET, \n",
    "            VERSION, \n",
    "            lat, \n",
    "            lng, \n",
    "            CONST_venuesRadiusScan, \n",
    "            CONST_venuesLimit)\n",
    "\n",
    "        # make the GET request\n",
    "        results = requests.get(url).json()[\"response\"]['groups'][0]['items']\n",
    "        \n",
    "        # return only relevant information for each nearby venue : name, latitude, longitude, and the categories' names\n",
    "        venues_list.append([(\n",
    "            cdn,\n",
    "            lat, \n",
    "            lng, \n",
    "            v['venue']['name'], \n",
    "            v['venue']['location']['lat'], \n",
    "            v['venue']['location']['lng'],  \n",
    "            v['venue']['categories'][0]['name']) for v in results])\n",
    "\n",
    "    # add the venues in the dataframe\n",
    "    nearby_venues = pd.DataFrame([item for venue_list in venues_list for item in venue_list])\n",
    "    nearby_venues.columns = [\n",
    "                        'CDN',\n",
    "                        'Area Latitude', \n",
    "                        'Area Longitude', \n",
    "                        'Venue', \n",
    "                        'Venue Latitude', \n",
    "                        'Venue Longitude', \n",
    "                        'Venue Category'\n",
    "    ]\n",
    "    \n",
    "    return(nearby_venues)"
   ]
  },
  {
   "cell_type": "code",
   "execution_count": null,
   "metadata": {},
   "outputs": [],
   "source": [
    "##1/ Best spots for opening a new chinese restaurant\n",
    "\n",
    "As we just saw, the city areas with the most concentration of chinese people are the ones which have beed categorised into the clusters 1 and 3.\n",
    "These clusters represent the areas at the north east of Toronto.\n",
    "Because there are a lot of possible neighbourhoods, we are going to use FoursquareAPI to see the number of chinese restaurants that already exist in each city area. We will assume that the areas with the fewer number of existing chinese restaurants within these clusters will represent the best areas to open a new chinese restaurant"
   ]
  },
  {
   "cell_type": "code",
   "execution_count": null,
   "metadata": {},
   "outputs": [],
   "source": [
    "toronto_chinese = toronto_merged[(toronto_merged['Cluster Labels'] == 3) | (toronto_merged['Cluster Labels'] == 1)]\n",
    "\n",
    "toronto_chinese.head()"
   ]
  },
  {
   "cell_type": "code",
   "execution_count": null,
   "metadata": {},
   "outputs": [],
   "source": [
    "# Get the venues for each neighbourhood\n",
    "chinese_restaurants_venues = getNearbyVenues(  \n",
    "                                    cdn=toronto_chinese['CDN'],\n",
    "                                    latitudes=toronto_chinese['Latitude'],\n",
    "                                    longitudes=toronto_chinese['Longitude']\n",
    "                                  )\n",
    "\n",
    "chinese_restaurants_venues[(chinese_restaurants_venues['Venue Category'] == \"Chinese Restaurant\")].head()"
   ]
  },
  {
   "cell_type": "code",
   "execution_count": null,
   "metadata": {},
   "outputs": [],
   "source": [
    "\n",
    "chinese_restaurants_count = chinese_restaurants_venues.groupby(['CDN','Area Latitude', 'Area Longitude']).count().reset_index()\n",
    "\n",
    "# Drop the useless columns\n",
    "chinese_restaurants_count = chinese_restaurants_count.drop(chinese_restaurants_count.columns[[1,2,3,4,5]], axis=1)\n",
    "chinese_restaurants_count.columns = ['CDN', 'Count']\n",
    "\n",
    "# Merge the counts with the toronto_chinese dataframe\n",
    "toronto_chinese = toronto_chinese.join(chinese_restaurants_count.set_index(['CDN']), on=['CDN'])\n",
    "toronto_chinese = toronto_chinese.sort_values(by='Count')\n",
    "\n",
    "toronto_chinese.head(15)"
   ]
  },
  {
   "cell_type": "code",
   "execution_count": null,
   "metadata": {},
   "outputs": [],
   "source": [
    "toronto_chinese_top = toronto_chinese.head(5)\n",
    "\n",
    "# create map of Toronto using latitude and longitude values\n",
    "spots_chinese_restaurants = folium.Map(location=[latitude_toronto, longitude_toronto], zoom_start=11)\n",
    "\n",
    "# add markers to map\n",
    "for lat, lng, CDN, City_Area in zip(toronto_chinese_top['Latitude'], toronto_chinese_top['Longitude'], toronto_chinese_top['CDN'], toronto_chinese_top['City_Area']):\n",
    "    label = '{} - {}'.format(CDN, City_Area)\n",
    "    label = folium.Popup(label, parse_html=True)\n",
    "\n",
    "    folium.CircleMarker(\n",
    "        [lat, lng],\n",
    "        radius=5,\n",
    "        popup=label,\n",
    "        color='blue',\n",
    "        fill=True,\n",
    "        fill_color='#3186cc',\n",
    "        fill_opacity=0.7).add_to(spots_chinese_restaurants) \n",
    "    \n",
    "spots_chinese_restaurants"
   ]
  },
  {
   "cell_type": "code",
   "execution_count": null,
   "metadata": {},
   "outputs": [],
   "source": [
    "##2/ Best spots for opening a new irish pub\n",
    "\n",
    "The city areas with the most concentration of irish, scottish and english people are the ones which have beed categorised into the clusters 4.\n",
    "These clusters represent the areas in the south and the downtown of Toronto.\n",
    "Just like the chinese restaurants, we are going to use FoursquareAPI and assume that the areas with the fewer number of existing irish pubs will represent the best areas to open a new irish pub."
   ]
  },
  {
   "cell_type": "code",
   "execution_count": null,
   "metadata": {},
   "outputs": [],
   "source": [
    "\n",
    "toronto_irish = toronto_merged[(toronto_merged['Cluster Labels'] == 4)]\n",
    "\n",
    "toronto_irish.head()"
   ]
  },
  {
   "cell_type": "code",
   "execution_count": null,
   "metadata": {},
   "outputs": [],
   "source": [
    "\n",
    "# Get the venues for each neighbourhood\n",
    "irish_pubs_venues = getNearbyVenues(  \n",
    "                                    cdn=toronto_irish['CDN'],\n",
    "                                    latitudes=toronto_irish['Latitude'],\n",
    "                                    longitudes=toronto_irish['Longitude']\n",
    "                                  )\n",
    "\n",
    "irish_pubs_venues[(irish_pubs_venues['Venue Category'] == \"Pub\")].head()"
   ]
  },
  {
   "cell_type": "code",
   "execution_count": null,
   "metadata": {},
   "outputs": [],
   "source": [
    "\n",
    "irish_pubs_count = irish_pubs_venues.groupby(['CDN','Area Latitude', 'Area Longitude']).count().reset_index()\n",
    "\n",
    "# Drop the useless columns\n",
    "irish_pubs_count = irish_pubs_count.drop(irish_pubs_count.columns[[1,2,3,4,5]], axis=1)\n",
    "irish_pubs_count.columns = ['CDN', 'Count']\n",
    "\n",
    "# Merge the counts with the toronto_chinese dataframe\n",
    "toronto_irish = toronto_irish.join(irish_pubs_count.set_index(['CDN']), on=['CDN'])\n",
    "toronto_irish = toronto_irish.sort_values(by='Count')\n",
    "\n",
    "toronto_irish.head(15)"
   ]
  },
  {
   "cell_type": "code",
   "execution_count": null,
   "metadata": {},
   "outputs": [],
   "source": [
    "oronto_pubs_top = toronto_irish.head(5)\n",
    "\n",
    "# create map of Toronto using latitude and longitude values\n",
    "spots_irish_pubs = folium.Map(location=[latitude_toronto, longitude_toronto], zoom_start=11)\n",
    "\n",
    "# add markers to map\n",
    "for lat, lng, CDN, City_Area in zip(toronto_pubs_top['Latitude'], toronto_pubs_top['Longitude'], toronto_pubs_top['CDN'], toronto_pubs_top['City_Area']):\n",
    "    label = '{} - {}'.format(CDN, City_Area)\n",
    "    label = folium.Popup(label, parse_html=True)\n",
    "\n",
    "    folium.CircleMarker(\n",
    "        [lat, lng],\n",
    "        radius=5,\n",
    "        popup=label,\n",
    "        color='blue',\n",
    "        fill=True,\n",
    "        fill_color='#3186cc',\n",
    "        fill_opacity=0.7).add_to(spots_irish_pubs) \n",
    "    \n",
    "spots_irish_pubs"
   ]
  }
 ],
 "metadata": {
  "kernelspec": {
   "display_name": "Python 3",
   "language": "python",
   "name": "python3"
  },
  "language_info": {
   "codemirror_mode": {
    "name": "ipython",
    "version": 3
   },
   "file_extension": ".py",
   "mimetype": "text/x-python",
   "name": "python",
   "nbconvert_exporter": "python",
   "pygments_lexer": "ipython3",
   "version": "3.7.4"
  }
 },
 "nbformat": 4,
 "nbformat_minor": 2
}
